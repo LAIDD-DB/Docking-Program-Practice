{
 "cells": [
  {
   "cell_type": "markdown",
   "id": "20d381a6",
   "metadata": {},
   "source": [
    "# exercise 3: ligand RMSD\n",
    "RMSD: Root Mean Square Deviation"
   ]
  },
  {
   "cell_type": "code",
   "execution_count": 1,
   "id": "a359972b",
   "metadata": {},
   "outputs": [],
   "source": [
    "import numpy as np\n",
    "from rdkit import Chem"
   ]
  },
  {
   "cell_type": "code",
   "execution_count": 2,
   "id": "66ba90fe",
   "metadata": {},
   "outputs": [],
   "source": [
    "def cal_rmsd(dock_ligand_file, ref_file):\n",
    "    m = Chem.MolFromPDBFile(dock_ligand_file)\n",
    "    m_ref = Chem.MolFromPDBFile(ref_file)\n",
    "\n",
    "    smarts = Chem.MolToSmarts(m_ref)\n",
    "\n",
    "    patt = Chem.MolFromSmarts(smarts)\n",
    "    cs_list = m.GetSubstructMatches(patt, uniquify=False)\n",
    "    cs_ref = m_ref.GetSubstructMatch(patt)\n",
    "\n",
    "    num_atoms = len(cs_ref)\n",
    "    conformers = m.GetConformers()\n",
    "    conformer_ref = m_ref.GetConformer()\n",
    "    num_conf = len(conformers)\n",
    "    num_hatoms = m.GetNumHeavyAtoms()\n",
    "    rmsd_list = list()\n",
    "    for i_conf in range(num_conf):\n",
    "        conformer = conformers[i_conf]\n",
    "        rmsd_min = 99.999\n",
    "        for cs in cs_list:\n",
    "            tmp = 0.0\n",
    "            for i in range(num_atoms):\n",
    "                idx = cs[i]\n",
    "                idx_ref = cs_ref[i]\n",
    "                atom = m.GetAtomWithIdx(idx)\n",
    "                if atom.GetSymbol() == 'H':\n",
    "                    continue\n",
    "                p = conformer.GetAtomPosition(idx)\n",
    "                p_ref = conformer_ref.GetAtomPosition(idx_ref)\n",
    "                pos = np.array([p.x, p.y, p.z])\n",
    "                pos_ref = np.array([p_ref.x, p_ref.y, p_ref.z])\n",
    "                tmp += ((pos-pos_ref)**2).sum()\n",
    "            rmsd = np.sqrt(tmp/num_hatoms)\n",
    "            if rmsd < rmsd_min:\n",
    "                rmsd_min = rmsd\n",
    "        rmsd_list += [rmsd_min]\n",
    "    return rmsd_list"
   ]
  },
  {
   "cell_type": "code",
   "execution_count": 3,
   "id": "390d872a",
   "metadata": {},
   "outputs": [],
   "source": [
    "dock_ligand_file = 'pdb/dock_M855.pdb'\n",
    "ref_file = 'pdb/3HMMA_855.pdb'"
   ]
  },
  {
   "cell_type": "code",
   "execution_count": 4,
   "id": "0aac1bbb",
   "metadata": {},
   "outputs": [],
   "source": [
    "m_ref = Chem.MolFromPDBFile(ref_file)"
   ]
  },
  {
   "cell_type": "code",
   "execution_count": 5,
   "id": "e3e5c910",
   "metadata": {},
   "outputs": [
    {
     "data": {
      "image/png": "[encoded data removed]",
      "text/plain": [
       "<rdkit.Chem.rdchem.Mol at 0x7f24c76880a0>"
      ]
     },
     "execution_count": 5,
     "metadata": {},
     "output_type": "execute_result"
    }
   ],
   "source": [
    "m_ref.RemoveAllConformers()\n",
    "m_ref"
   ]
  },
  {
   "cell_type": "code",
   "execution_count": 6,
   "id": "4b2e08f4",
   "metadata": {},
   "outputs": [
    {
     "name": "stdout",
     "output_type": "stream",
     "text": [
      "0 0.22566632816321225\n",
      "1 5.786131738908129\n",
      "2 1.806381719534016\n",
      "3 4.901281584102944\n",
      "4 6.7974298451694235\n",
      "5 6.8750292090288605\n",
      "6 6.387599366480861\n",
      "7 6.642500435955324\n",
      "8 7.282460461615977\n",
      "9 8.188844006736645\n"
     ]
    }
   ],
   "source": [
    "rmsd_list = cal_rmsd(dock_ligand_file, ref_file)\n",
    "for i_conf, rmsd in enumerate(rmsd_list):\n",
    "    print(i_conf, rmsd)"
   ]
  },
  {
   "cell_type": "code",
   "execution_count": 7,
   "id": "f880e8e4",
   "metadata": {},
   "outputs": [
    {
     "name": "stdout",
     "output_type": "stream",
     "text": [
      "((0, 1, 2, 3, 4, 5, 6, 7, 8, 9, 10, 11, 12, 13, 14, 15, 16, 17, 18, 19, 20, 21, 22, 23), (0, 1, 2, 3, 4, 5, 6, 7, 8, 9, 10, 11, 12, 13, 14, 15, 16, 17, 18, 23, 22, 21, 20, 19))\n"
     ]
    }
   ],
   "source": [
    "m = Chem.MolFromPDBFile(dock_ligand_file)\n",
    "m_ref = Chem.MolFromPDBFile(ref_file)\n",
    "\n",
    "smarts = Chem.MolToSmarts(m_ref)\n",
    "patt = Chem.MolFromSmarts(smarts)\n",
    "cs_list = m.GetSubstructMatches(patt, uniquify=False)\n",
    "print(cs_list)"
   ]
  },
  {
   "cell_type": "code",
   "execution_count": null,
   "id": "543ad921",
   "metadata": {},
   "outputs": [],
   "source": []
  }
 ],
 "metadata": {
  "kernelspec": {
   "display_name": "Python 3 (ipykernel)",
   "language": "python",
   "name": "python3"
  },
  "language_info": {
   "codemirror_mode": {
    "name": "ipython",
    "version": 3
   },
   "file_extension": ".py",
   "mimetype": "text/x-python",
   "name": "python",
   "nbconvert_exporter": "python",
   "pygments_lexer": "ipython3",
   "version": "3.10.5"
  }
 },
 "nbformat": 4,
 "nbformat_minor": 5
}
