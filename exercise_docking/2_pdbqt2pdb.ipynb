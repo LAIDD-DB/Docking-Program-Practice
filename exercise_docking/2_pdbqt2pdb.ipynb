{
 "cells": [
  {
   "cell_type": "markdown",
   "id": "20d381a6",
   "metadata": {},
   "source": [
    "# exercise 2: pdbqt 2 pdb"
   ]
  },
  {
   "cell_type": "code",
   "execution_count": 1,
   "id": "5b69d8fe",
   "metadata": {},
   "outputs": [],
   "source": [
    "import subprocess\n",
    "# subprocess 모듈: python에서 쉘 명령어나 프로그램을 실행"
   ]
  },
  {
   "cell_type": "code",
   "execution_count": 1,
   "id": "a359972b",
   "metadata": {},
   "outputs": [],
   "source": []
  },
  {
   "cell_type": "code",
   "execution_count": 2,
   "id": "66ba90fe",
   "metadata": {},
   "outputs": [],
   "source": [
    "def read_ref_pdb_ligand(pdb_file):\n",
    "    fp = open(pdb_file)\n",
    "    lines = fp.readlines()\n",
    "    fp.close()\n",
    "    atom_dict = dict()\n",
    "    conect_dict = dict()\n",
    "    for line in lines:\n",
    "        if line[0:6] == 'HETATM':\n",
    "            atom_num = int(line[6:11])\n",
    "#            atom_name = line[12:16]\n",
    "            atom_dict[atom_num] = line\n",
    "        if line[0:6] == 'CONECT':\n",
    "            conect_list = []\n",
    "            for i in range(0, 8):\n",
    "                ini = i * 5 + 6\n",
    "                fin = (i + 1) * 5 + 6\n",
    "                atom_num = line[ini:fin].strip()\n",
    "                if len(atom_num) > 0:\n",
    "                    conect_list += [int(atom_num)]\n",
    "            conect_idx = conect_list[0]\n",
    "            if conect_idx not in conect_dict:\n",
    "                conect_dict[conect_idx] = conect_list[1:]\n",
    "            else:\n",
    "                conect_dict[conect_idx] = conect_dict[conect_idx] + \\\n",
    "                    conect_list[1:]\n",
    "\n",
    "    return atom_dict, conect_dict"
   ]
  },
  {
   "cell_type": "code",
   "execution_count": 3,
   "id": "21eaff5d",
   "metadata": {},
   "outputs": [],
   "source": [
    "def read_pdbqt_file(pdbqt_file):\n",
    "    model_dict = dict()\n",
    "    model_num = 0\n",
    "    fp = open(pdbqt_file)\n",
    "    lines = fp.readlines()\n",
    "    fp.close()\n",
    "    for line in lines:\n",
    "        if line[0:6] == 'MODEL ':\n",
    "            model_num = int(line[6:].strip())\n",
    "        if model_num not in model_dict:\n",
    "            model_dict[model_num] = dict()\n",
    "            model_dict[model_num]['REMARK'] = list()\n",
    "            model_dict[model_num]['HETATM'] = dict()\n",
    "\n",
    "        if line[0:6] == 'REMARK':\n",
    "            model_dict[model_num]['REMARK'] += [line]\n",
    "        if line[0:6] == 'HETATM':\n",
    "            atom_name = line[12:16]\n",
    "            pos = line[30:54]\n",
    "            model_dict[model_num]['HETATM'][atom_name] = pos\n",
    "\n",
    "    return model_dict"
   ]
  },
  {
   "cell_type": "code",
   "execution_count": 4,
   "id": "a02ff0bd",
   "metadata": {},
   "outputs": [],
   "source": [
    "def write_pdb_one_ref(model, ref_atom_dict, ref_conect_dict):\n",
    "\n",
    "    total_line_out = ''\n",
    "    remark_list = model['REMARK']\n",
    "    for line in remark_list:\n",
    "        total_line_out += line\n",
    "    coor_dict = model['HETATM']\n",
    "\n",
    "    total_atom_list = list()\n",
    "    keys = ref_atom_dict.keys()\n",
    "    for atom_num in keys:\n",
    "        atom_line = ref_atom_dict[atom_num]\n",
    "        atom_name = atom_line[12:16]\n",
    "        if atom_name in coor_dict:\n",
    "\n",
    "            total_atom_list += [atom_num]\n",
    "            line_out = '%s%s%s' % (\n",
    "                atom_line[:30], coor_dict[atom_name], atom_line[54:])\n",
    "            total_line_out += line_out\n",
    "\n",
    "    keys = ref_conect_dict.keys()\n",
    "    for atom_num in keys:\n",
    "        if atom_num not in total_atom_list:\n",
    "            continue\n",
    "        ans = ref_conect_dict[atom_num]\n",
    "        ans2 = list()\n",
    "        for an in ans:\n",
    "            if an in total_atom_list:\n",
    "                ans2 += [an]\n",
    "        num_conect = len(ans2)\n",
    "        line_out = ''\n",
    "        for i_con in range(num_conect):\n",
    "            if i_con % 4 == 0:\n",
    "                line_out += 'CONECT%5d' % (atom_num)\n",
    "            line_out += '%5d' % (ans2[i_con])\n",
    "            if i_con % 4 == 3:\n",
    "                line_out += '\\n'\n",
    "        if len(line_out.strip()) < 1:\n",
    "            continue\n",
    "        if line_out[-1] != '\\n':\n",
    "            line_out += '\\n'\n",
    "        total_line_out += line_out\n",
    "    return total_line_out"
   ]
  },
  {
   "cell_type": "code",
   "execution_count": 5,
   "id": "1410e46f",
   "metadata": {},
   "outputs": [],
   "source": [
    "def pdbqt_to_pdb_ref(input_pdbqt_file, output_pdb_file, ref_pdb_file):\n",
    "    ref_atom_dict, ref_conect_dict = read_ref_pdb_ligand(ref_pdb_file)\n",
    "    model_dict = read_pdbqt_file(input_pdbqt_file)\n",
    "    model_list = model_dict.keys()\n",
    "    num_model = len(model_list)\n",
    "    fp_out = open(output_pdb_file, 'w')\n",
    "    for model_id in model_list:\n",
    "        total_line_out = write_pdb_one_ref(\n",
    "            model_dict[model_id], ref_atom_dict, ref_conect_dict)\n",
    "\n",
    "        if num_model > 1:\n",
    "            line_out = 'MODEL %8d\\n' % model_id\n",
    "            fp_out.write(line_out)\n",
    "        fp_out.write(total_line_out)\n",
    "        if num_model > 1:\n",
    "            line_out = 'ENDMDL\\n'\n",
    "            fp_out.write(line_out)\n",
    "    line_out = 'END\\n'\n",
    "    fp_out.write(line_out)\n",
    "    fp_out.close()\n",
    "\n",
    "    run_line = 'obabel %s -h -O %s' % (output_pdb_file, output_pdb_file)\n",
    "    subprocess.check_output(run_line.split(), stderr=subprocess.STDOUT,\n",
    "                            universal_newlines=True)\n",
    "    return"
   ]
  },
  {
   "cell_type": "code",
   "execution_count": 6,
   "id": "ae1c72aa",
   "metadata": {},
   "outputs": [],
   "source": [
    "input_pdbqt_file = 'M855.pdbqt'\n",
    "output_pdb_file = 'M855_new.pdb'\n",
    "ref_pdb_file = 'M855.pdb'\n",
    "pdbqt_to_pdb_ref(input_pdbqt_file, output_pdb_file, ref_pdb_file)"
   ]
  },
  {
   "cell_type": "code",
   "execution_count": null,
   "id": "4b2e08f4",
   "metadata": {},
   "outputs": [],
   "source": []
  }
 ],
 "metadata": {
  "kernelspec": {
   "display_name": "Python 3 (ipykernel)",
   "language": "python",
   "name": "python3"
  },
  "language_info": {
   "codemirror_mode": {
    "name": "ipython",
    "version": 3
   },
   "file_extension": ".py",
   "mimetype": "text/x-python",
   "name": "python",
   "nbconvert_exporter": "python",
   "pygments_lexer": "ipython3",
   "version": "3.10.5"
  }
 },
 "nbformat": 4,
 "nbformat_minor": 5
}
