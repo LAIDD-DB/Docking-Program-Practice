{
 "cells": [
  {
   "cell_type": "markdown",
   "id": "2cc80045",
   "metadata": {},
   "source": [
    "# exercise 1: generate 3d conformation"
   ]
  },
  {
   "cell_type": "code",
   "execution_count": 1,
   "id": "a6429f6d",
   "metadata": {},
   "outputs": [],
   "source": [
    "from openbabel import pybel\n",
    "import subprocess\n",
    "# subprocess 모듈: python에서 쉘 명령어나 프로그램을 실행"
   ]
  },
  {
   "cell_type": "code",
   "execution_count": 2,
   "id": "0bfebbed",
   "metadata": {},
   "outputs": [
    {
     "name": "stdout",
     "output_type": "stream",
     "text": [
      "1_gen3d.ipynb\n",
      "2_pdbqt2pdb.ipynb\n",
      "M855.pdb\n",
      "M855.pdbqt\n",
      "pdb\n"
     ]
    },
    {
     "data": {
      "text/plain": [
       "CompletedProcess(args=['ls'], returncode=0)"
      ]
     },
     "execution_count": 2,
     "metadata": {},
     "output_type": "execute_result"
    }
   ],
   "source": [
    "run_line = 'ls'\n",
    "subprocess.run(run_line.split())"
   ]
  },
  {
   "cell_type": "code",
   "execution_count": 3,
   "id": "1e5e3821",
   "metadata": {},
   "outputs": [
    {
     "name": "stdout",
     "output_type": "stream",
     "text": [
      "CompletedProcess(args=['ls'], returncode=0, stdout='1_gen3d.ipynb\\n2_pdbqt2pdb.ipynb\\nM855.pdb\\nM855.pdbqt\\npdb\\n', stderr='')\n"
     ]
    }
   ],
   "source": [
    "run_line = 'ls'\n",
    "result = subprocess.run(run_line.split(),capture_output=True,\n",
    "                        check=True, universal_newlines=True)\n",
    "print(result)"
   ]
  },
  {
   "cell_type": "code",
   "execution_count": 5,
   "id": "339f6a61",
   "metadata": {},
   "outputs": [
    {
     "name": "stdout",
     "output_type": "stream",
     "text": [
      "CompletedProcess(args=['obabel', '-:C(=O)([O-])CCC(=[NH2+])N', '-osmi', '--neutralize'], returncode=0, stdout='C(=O)(O)CCC(=N)N\\t\\n', stderr='1 molecule converted\\n')\n",
      "C(=O)(O)CCC(=N)N\t\n",
      "\n"
     ]
    }
   ],
   "source": [
    "# neutralization\n",
    "smi0 = 'C(=O)([O-])CCC(=[NH2+])N'\n",
    "run_line = 'obabel -:%s -osmi --neutralize' % (smi0)\n",
    "result = subprocess.run(run_line.split(), capture_output=True,\n",
    "                        check=True, universal_newlines=True,)\n",
    "print(result)\n",
    "print(result.stdout)"
   ]
  },
  {
   "cell_type": "code",
   "execution_count": 6,
   "id": "1b480960",
   "metadata": {},
   "outputs": [
    {
     "name": "stdout",
     "output_type": "stream",
     "text": [
      "C(=O)([O-])CCC(=[NH2+])N\n"
     ]
    }
   ],
   "source": [
    "# protonation state\n",
    "pH = 7.4\n",
    "smi0 = 'C(=O)(O)CCC(=N)N'\n",
    "m = pybel.readstring(\"smi\", smi0)\n",
    "m.OBMol.AddHydrogens(False, True, pH)\n",
    "smi_p = m.write(\"smi\").strip()\n",
    "print(smi_p)"
   ]
  },
  {
   "cell_type": "code",
   "execution_count": 7,
   "id": "ceac4131",
   "metadata": {},
   "outputs": [
    {
     "name": "stdout",
     "output_type": "stream",
     "text": [
      "CompletedProcess(args=['obabel', '-:C(=O)(O)CCC(=N)N', '-osmi', '-p', '7.4'], returncode=0, stdout='C(=O)([O-])CCC(=[NH2+])N\\t\\n', stderr='1 molecule converted\\n')\n",
      "C(=O)([O-])CCC(=[NH2+])N\t\n",
      "\n"
     ]
    }
   ],
   "source": [
    "# protonation state\n",
    "pH = 7.4\n",
    "smi0 = 'C(=O)(O)CCC(=N)N'\n",
    "run_line = 'obabel -:%s -osmi -p %s' % (smi0, pH)\n",
    "result = subprocess.run(run_line.split(), capture_output=True,\n",
    "                        check=True, universal_newlines=True)\n",
    "print(result)\n",
    "print(result.stdout)"
   ]
  },
  {
   "cell_type": "code",
   "execution_count": 8,
   "id": "1ced39b0",
   "metadata": {},
   "outputs": [],
   "source": [
    "smi = 'Cc1cccc(n1)c1nc(c2ccccc2n1)Nc1ccncc1'\n",
    "timeout = 10\n",
    "run_line = 'obabel -:%s --gen3D -opdb' % (smi)\n",
    "result = subprocess.run(run_line.split(), capture_output=True,\n",
    "                        check=True, universal_newlines=True,\n",
    "                        timeout=timeout)\n",
    "#print(result)"
   ]
  },
  {
   "cell_type": "code",
   "execution_count": 9,
   "id": "9c172c32",
   "metadata": {},
   "outputs": [],
   "source": [
    "def check_gen3d_pdb(line_list):\n",
    "    count_0 = 0\n",
    "    check_error = False\n",
    "    for line in line_list:\n",
    "        if line[0:6] == 'HETATM' or line[0:6] == 'ATOM  ':\n",
    "            x = float(line[30:38])\n",
    "            y = float(line[38:46])\n",
    "            z = float(line[46:54])\n",
    "            if x == 0.0 and y == 0.0 and z == 0.0:\n",
    "                count_0 += 1\n",
    "            if count_0 >= 2:\n",
    "                check_error = True\n",
    "                break\n",
    "\n",
    "    return check_error"
   ]
  },
  {
   "cell_type": "code",
   "execution_count": 10,
   "id": "ad5fe63d",
   "metadata": {},
   "outputs": [],
   "source": [
    "def fix_ligand_atom_idx(line_list):\n",
    "\n",
    "    atom_dict = dict()\n",
    "    total_line_out = str()\n",
    "\n",
    "    for line in line_list:\n",
    "        line = line.rstrip('\\n')\n",
    "        if line[0:6] == 'ATOM  ' or line[0:6] == 'HETATM':\n",
    "            atom = line[12:16]\n",
    "            at = atom[0:2]\n",
    "            chain = line[21]\n",
    "            line = 'HETATM%s%s   UNK %s   1 %s' % (line[6:12], at,\n",
    "                                                   chain, line[27:])\n",
    "        if line[0:6] == 'HETATM':\n",
    "            atom = line[12:16]\n",
    "            at = atom[0:2]\n",
    "            if at not in atom_dict:\n",
    "                atom_dict[at] = 0\n",
    "#            chain = line[21]\n",
    "            atom_dict[at] += 1\n",
    "            idx = atom_dict[at]\n",
    "            line_out = line[0:12] + '%s%-2d' % (at, idx) + line[16:]\n",
    "        else:\n",
    "            line_out = line\n",
    "        total_line_out += line_out + '\\n'\n",
    "\n",
    "    return total_line_out"
   ]
  },
  {
   "cell_type": "code",
   "execution_count": 11,
   "id": "e63c8c37",
   "metadata": {},
   "outputs": [],
   "source": [
    "def gen_3d_pdb(smi, ligand_file, timeout=10):\n",
    "    \"\"\"\n",
    "        generate initial 3d conformation from SMILES\n",
    "        input :\n",
    "            SMILES string\n",
    "            ligand_file (output file, pdb)\n",
    "    \"\"\"\n",
    "    run_line = 'obabel -:%s --gen3D -opdb' % (smi)\n",
    "    e = None\n",
    "    try:\n",
    "        result = subprocess.run(run_line.split(), capture_output=True,\n",
    "                                check=True, universal_newlines=True,\n",
    "                                timeout=timeout)\n",
    "    except Exception as e:\n",
    "        return e\n",
    "\n",
    "    err_lines = result.stderr.split('\\n')\n",
    "    for i, line in enumerate(err_lines):\n",
    "        idx = line.find('Error')\n",
    "        if idx != -1:\n",
    "            e = err_lines[i] + err_lines[i+1]\n",
    "            return e\n",
    "\n",
    "    result_lines = result.stdout.strip('\\n').split('\\n')\n",
    "    check_error = check_gen3d_pdb(result_lines)\n",
    "    if check_error:\n",
    "        e = 'error: gen 3d, two or more (0,0,0)'\n",
    "        return e\n",
    "\n",
    "    total_line_out = fix_ligand_atom_idx(result_lines)\n",
    "    fp = open(ligand_file, 'w')\n",
    "    fp.write(total_line_out)\n",
    "    fp.close()\n",
    "    \n",
    "    return e"
   ]
  },
  {
   "cell_type": "code",
   "execution_count": 12,
   "id": "bdd1e595",
   "metadata": {},
   "outputs": [],
   "source": [
    "smi = 'Cc1cccc(n1)c1nc(c2ccccc2n1)Nc1ccncc1'\n",
    "timeout = 10\n",
    "ligand_file = 'M855.pdb'\n",
    "gen_3d_pdb(smi, ligand_file, timeout=10)"
   ]
  },
  {
   "cell_type": "code",
   "execution_count": 13,
   "id": "0f684a1c",
   "metadata": {},
   "outputs": [],
   "source": [
    "def pdb_to_pdbqt(pdb_file, pdbqt_file):\n",
    "\n",
    "    run_line = 'prepare_ligand4.py -l %s -o %s' % (pdb_file, pdbqt_file)\n",
    "    run_line += ' -U nphs_lps'\n",
    "    e = None\n",
    "    try:\n",
    "        subprocess.check_output(run_line.split(), stderr=subprocess.STDOUT,\n",
    "                                universal_newlines=True)\n",
    "    except Exception as e:\n",
    "        return e\n",
    "    return e"
   ]
  },
  {
   "cell_type": "code",
   "execution_count": 14,
   "id": "9fd4bd31",
   "metadata": {},
   "outputs": [],
   "source": [
    "pdb_file = 'M855.pdb'\n",
    "pdbqt_file = 'M855.pdbqt'\n",
    "pdb_to_pdbqt(pdb_file, pdbqt_file)"
   ]
  },
  {
   "cell_type": "code",
   "execution_count": null,
   "id": "ec11340d",
   "metadata": {},
   "outputs": [],
   "source": []
  }
 ],
 "metadata": {
  "kernelspec": {
   "display_name": "Python 3 (ipykernel)",
   "language": "python",
   "name": "python3"
  },
  "language_info": {
   "codemirror_mode": {
    "name": "ipython",
    "version": 3
   },
   "file_extension": ".py",
   "mimetype": "text/x-python",
   "name": "python",
   "nbconvert_exporter": "python",
   "pygments_lexer": "ipython3",
   "version": "3.10.5"
  }
 },
 "nbformat": 4,
 "nbformat_minor": 5
}
